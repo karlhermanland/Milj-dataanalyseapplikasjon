{
 "cells": [
  {
   "cell_type": "code",
   "execution_count": null,
   "metadata": {},
   "outputs": [],
   "source": [
    "#første test med nasa data henter kun temperatur\n",
    "\n",
    "import requests\n",
    "import pandas as pd\n",
    "\n",
    "\n",
    "# NASA POWER API-endepunkt\n",
    "url = \"https://power.larc.nasa.gov/api/temporal/daily/point\"\n",
    "\n",
    "\n",
    "# API-parametere (må være riktig satt opp)\n",
    "params = {\n",
    "   \"parameters\": \"T2M\",  # Temperatur i 2m høyde\n",
    "   \"community\": \"RE\",\n",
    "   \"longitude\": 10.0,  # Endre til ønsket koordinat\n",
    "   \"latitude\": 59.0,   # Endre til ønsket koordinat\n",
    "   \"start\": \"20230101\",  # Startdato (YYYYMMDD)\n",
    "   \"end\": \"20231231\",  # Sluttdato (YYYYMMDD)\n",
    "   \"format\": \"JSON\"\n",
    "}\n",
    "\n",
    "\n",
    "# Hente data\n",
    "response = requests.get(url, params=params)\n",
    "\n",
    "\n",
    "# Sjekke respons\n",
    "if response.status_code == 200:\n",
    "   data = response.json()\n",
    "\n",
    "\n",
    "   # Hente ut temperaturdata\n",
    "   if \"properties\" in data and \"parameter\" in data[\"properties\"]:\n",
    "       df = pd.DataFrame.from_dict(data[\"properties\"][\"parameter\"][\"T2M\"], orient=\"index\", columns=[\"Temperature\"])\n",
    "       df.index = pd.to_datetime(df.index)  # Konverterer indeksen til datoformat\n",
    "\n",
    "\n",
    "       # Lagre til CSV\n",
    "       df.to_csv(\"nasa_temperature_data.csv\")\n",
    "       print(\"Data lagret som nasa_temperature_data.csv\")\n",
    "   else:\n",
    "       print(\"Feil: Strukturert data ikke funnet i responsen.\")\n",
    "\n",
    "\n",
    "else:\n",
    "   print(f\"Feil: {response.status_code}, {response.text}\")"
   ]
  },
  {
   "cell_type": "code",
   "execution_count": null,
   "metadata": {},
   "outputs": [],
   "source": [
    "import requests\n",
    "\n",
    "client_id = \"c533be15-1b26-4225-bf7d-cc5e5c81beb5\"\n",
    "\n",
    "url = \"https://frost.met.no/observations/v0.jsonld\"\n",
    "params = {\n",
    "    \"sources\": \"SN18700\",\n",
    "    \"elements\": \"mean(air_temperature P1D)\",\n",
    "    \"referencetime\": \"2024-01-01/2024-01-31\",\n",
    "    \"timeresolutions\": \"P1D\",\n",
    "    \"fields\": \"referenceTime,elementId,value\"\n",
    "}\n",
    "\n",
    "response = requests.get(url, params=params, auth=(client_id, \"\"))  # 👈 tomt passord\n",
    "print(response.status_code)\n",
    "print(response.text)\n"
   ]
  },
  {
   "cell_type": "code",
   "execution_count": null,
   "metadata": {},
   "outputs": [],
   "source": []
  }
 ],
 "metadata": {
  "kernelspec": {
   "display_name": ".venv",
   "language": "python",
   "name": "python3"
  },
  "language_info": {
   "codemirror_mode": {
    "name": "ipython",
    "version": 3
   },
   "file_extension": ".py",
   "mimetype": "text/x-python",
   "name": "python",
   "nbconvert_exporter": "python",
   "pygments_lexer": "ipython3",
   "version": "3.13.0"
  }
 },
 "nbformat": 4,
 "nbformat_minor": 2
}
